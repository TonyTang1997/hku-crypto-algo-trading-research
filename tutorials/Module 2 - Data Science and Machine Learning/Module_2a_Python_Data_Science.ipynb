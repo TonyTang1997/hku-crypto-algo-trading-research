{
 "cells": [
  {
   "cell_type": "markdown",
   "metadata": {},
   "source": [
    "### Cryptocurrency Algorithmic Trading\n",
    "HKU-SCF FinTech Academy\n",
    "<br><br>\n",
    "\n",
    "# <u>Module 1 Overview</u>  \n",
    "\n",
    "This module serves to give you an introduction to the course, and to lead you into the realm of Artificial Intelligence (AI). Some topics related to AI applications will be discussed, such as motivations of adopting AI methods to solve a problem and the general procedure of building AI applications. This module provides a general picture of AI applications, thereby supporting studies of examples in upcoming modules.\n",
    "\n",
    "**Note that there are quite some optional external references included in this Module, feel free to go through or skip them at your own interest, we will go through some of them in more details at later modules.**\n",
    "\n",
    "## Estimated Time to Finish:\n",
    "12~15 hours (excluding Optional Materials)\n",
    "\n",
    "## Main Learning Objectives:\n",
    "-\tTo have a basic understanding to Artificial Intelligence (AI) and Machine Learning (ML), and their applications.\n",
    "-\tTo understand the general procedure of building AI applications.\n",
    "- To understand the basic usage of ML framework.\n",
    "\n",
    "## Study Roadmap\n",
    "\n",
    "### Programming technology\n",
    "In this chapter you will learn about Python, the most popular programming language for algotrading\n",
    "#### Python basics\n",
    "[Kaggle - Python tutorial](https://www.kaggle.com/learn/python)\n",
    "#### Python OOP \n",
    "[freeCodeCamp - scientific-computing-with-python](https://www.freecodecamp.org/learn/scientific-computing-with-python/)\n",
    "#### Data Science in Python\n",
    "Pandas, Numpy\n",
    "[Kaggle - Pandas tutorial](https://www.kaggle.com/learn/pandas)\n",
    "#### Machine Learning Basics\n",
    "[Kaggle - Intro to Machine Learning](https://www.kaggle.com/learn/intro-to-machine-learning)\n",
    "\n",
    "\n",
    "1. [Introduction to AI Applications](./Materials/Introduction_to_AI_Applications.ipynb)\n",
    "    - A brief introduction to Artificial Intelligence and its applications.\n",
    "2.\t[Building AI Applications](./Materials/Building_AI_Applications.ipynb)\n",
    "    - A brief introduction to the general workflow of building AI applications.\n",
    "\n",
    "The followings are three tutorials on the basic usage of some common ML frameworks.  **Complete the corresponding checkpoint task after finishing each tutorial.  Note the submission deadline for the checkpoint tasks from Moodle.**\n",
    "    \n",
    "3.  [Scikit-Learn](./Materials/ML_Framework_Learning_Roadmap/Scikit-Learn.ipynb)\n",
    "    - [**Checkpoint 1a**: Scikit-Learn](./Checkpoint/Scikit-Learn/Checkpoint1a_Scikit-Learn.ipynb)\n",
    "\n",
    "4.  [TensorFlow2](./Materials/ML_Framework_Learning_Roadmap/TensorFlow2.ipynb)\n",
    "    - [**Checkpoint 1b**: TensorFlow2](./Checkpoint/TensorFlow2/Checkpoint1b_TensorFlow2.ipynb)\n",
    "\n",
    "4.  [PyTorch](./Materials/ML_Framework_Learning_Roadmap/PyTorch.ipynb)\n",
    "    - [**Checkpoint 1c**: PyTorch](./Checkpoint/PyTorch/Checkpoint1c_PyTorch.ipynb)\n",
    "\n",
    "\n"
   ]
  },
  {
   "cell_type": "code",
   "execution_count": null,
   "metadata": {},
   "outputs": [],
   "source": []
  },
  {
   "cell_type": "markdown",
   "metadata": {},
   "source": [
    "## <u>introduction</u>  \n",
    "This notebook serves to give you an introduction to cryptocurrency and algorithmic trading. Some topics related to algorithmic trading will be discussed, such as motivations of adopting it (especially in the crypto market), an overview of knowledge required to start algotrading, and the general procedure of building algorithmic trading stretegies. This notebook provides a general picture of the upcomming tutorials aimmed at equipping you with the necessary knowledge and skills to build and deploy your own algotrading strategy.\n",
    "\n",
    "## Main Learning Objectives:\n",
    "- To understand the basics of technical analysis.\n",
    "- To have a basic understanding of algorithmic trading and the motivation behind it.\n",
    "- To understand the current algorithmic trading landscape\n",
    "\n",
    "\n"
   ]
  }
 ],
 "metadata": {
  "kernelspec": {
   "display_name": "Python 3",
   "language": "python",
   "name": "python3"
  },
  "language_info": {
   "codemirror_mode": {
    "name": "ipython",
    "version": 3
   },
   "file_extension": ".py",
   "mimetype": "text/x-python",
   "name": "python",
   "nbconvert_exporter": "python",
   "pygments_lexer": "ipython3",
   "version": "3.8.6"
  }
 },
 "nbformat": 4,
 "nbformat_minor": 4
}
