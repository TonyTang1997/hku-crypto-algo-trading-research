{
 "cells": [
  {
   "cell_type": "markdown",
   "metadata": {},
   "source": [
    "### Cryptocurrency Algorithmic Trading\n",
    "HKU-SCF FinTech Academy\n",
    "<br><br>\n",
    "\n",
    "# <u>Python Basics</u>  \n",
    "\n",
    "Python is a programming language named after the British comedy troupe Monty Python.\n",
    "In This chapter, we will cover the key Python skills you’ll need so you can start programming.\n",
    "\n",
    "\n",
    "\n",
    "**Note that there are quite some optional external references included in this Module, feel free to go through or skip them at your own interest.**\n",
    "\n",
    "## Estimated Time to Finish:\n",
    "3-5 hours (excluding Optional Materials)\n",
    "\n",
    "## Main Learning Objectives:\n",
    "- learning the basic syntax of python, variables, functions, arithmetics\n",
    "- learning about `string`, `list`, `tuple` and `dictionary` \n",
    "- learning how to import external libraries\n",
    "\n",
    "## Learning Programming\n",
    "It can take months or years to become proficient in basic programming. Many times, you'll need to review lessons several times. Programming also necessitates hands-on expertise; instead of reading/watching the examples, actively follow along on your computer. Learning programming is similar to learning how to drive a car or doing physical fitness exercises. it is not possible to attain the skills solely by reading about it and/or viewing videos.\n",
    "\n",
    "You are recommended to read this article: [How to teach yourself hard things](https://jvns.ca/blog/2018/09/01/learning-skills-you-can-practice/)\n",
    "\n",
    "Solving practice problems is very useful to review your understanding. After familiarizing with basics, try experimenting with your newly acquired skills. If you get stuck, you can search online/documentation/books for those specific problems, and if that fails, you can ask us for help.\n",
    "\n",
    "## The Tutorial\n",
    "\n",
    "\n",
    "You will be learning the basics of python from the tutorials on [Kaggle](https://www.kaggle.com), a pupular platform for data science competitions and also a source of useful datasets. Catered towards data science (which is relevant to algotrading), Kaggle will be main learning resource for this module as the tutorials are interactive and filled with examples. You will also get to try out some exercises inside Kaggle notebooks after learning each subtopic.\n",
    "\n",
    "https://www.kaggle.com/learn/python\n",
    "\n",
    "## Overview\n",
    "1.  [Syntax](#s1)\n",
    "2.  [Functions](#s2)\n",
    "3.  [Booleans & Conditions](#s3)\n",
    "4.  [Lists](#s4)\n",
    "5.  [Loops and List comprehension](#s5)\n",
    "6.  [Strings and dictionaries](#s6)\n",
    "7.  [Working with External Libraries](#s7)\n",
    "\n",
    "---"
   ]
  },
  {
   "cell_type": "markdown",
   "metadata": {},
   "source": [
    "## Summary\n",
    "Below is the summary of the content covered in the Kaggle tutorials. Relevant Cheatsheets from [Python Crash Course 2nd Edition](https://ehmatthes.github.io/pcc_2e/cheat_sheets/cheat_sheets/) is also provided (Credit goes to the author [Eric Matthes](https://ehmatthes.github.io/)) "
   ]
  },
  {
   "cell_type": "markdown",
   "metadata": {},
   "source": [
    "<a id='s1'></a>\n",
    "### 1. Syntax [(cheatsheet)](./cheatsheets/beginners_python_cheat_sheet_pcc.pdf)\n",
    " \n",
    "- `print(\"Strings are enclosed by double or single quotation marks\")`\n",
    "- arithmetics\n",
    "\n",
    "    | Operator     | Name           | Description                                            |\n",
    "|--------------|----------------|--------------------------------------------------------|\n",
    "| ``a + b``    | Addition       | Sum of ``a`` and ``b``                                 |\n",
    "| ``a - b``    | Subtraction    | Difference of ``a`` and ``b``                          |\n",
    "| ``a * b``    | Multiplication | Product of ``a`` and ``b``                             |\n",
    "| ``a / b``    | True division  | Quotient of ``a`` and ``b``                            |\n",
    "| ``a // b``   | Floor division | Quotient of ``a`` and ``b``, removing fractional parts |\n",
    "| ``a % b``    | Modulus        | Integer remainder after division of ``a`` by ``b``     |\n",
    "| ``a ** b``   | Exponentiation | ``a`` raised to the power of ``b``                     |\n",
    "| ``-a``       | Negation       | The negative of ``a``                                  |\n",
    "\n",
    "- declaring variables\n",
    "> **Variables** are used to assign **labels** to values.\n",
    "\n",
    "- commenting with `#`\n",
    "---"
   ]
  },
  {
   "cell_type": "markdown",
   "metadata": {},
   "source": [
    "<a id='s2'></a>\n",
    "### 2. Functions [(cheatsheet)](./cheatsheets/beginners_python_cheat_sheet_pcc_functions.pdf)\n",
    "> Functions are named blocks of code, designed to do one\n",
    "specific job. Information passed to a function is called an\n",
    "**argument**, and information received by a function is called a\n",
    "**parameter**.\n",
    "\n",
    "- Getting help with `help()` \n",
    "- How to define functions and write docstrings\n",
    "- the `return` keyword\n",
    "- function arguments\n",
    "- stacking functions\n",
    "---"
   ]
  },
  {
   "cell_type": "markdown",
   "metadata": {},
   "source": [
    "<a id='s3'></a>\n",
    "### 3. Booleans & Conditions  [(cheatsheet)](./cheatsheets/beginners_python_cheat_sheet_pcc_if_while.pdf)\n",
    "> If statements are used to test for particular conditions and respond appropriately.\n",
    "\n",
    "- Booleans: `True` or `False`\n",
    "- Comparisons\n",
    "    \n",
    "    | Operation     | Description                       || Operation     | Description                          |\n",
    "|---------------|-----------------------------------||---------------|--------------------------------------|\n",
    "| ``a == b``    | ``a`` equal to ``b``              || ``a != b``    | ``a`` not equal to ``b``             |\n",
    "| ``a < b``     | ``a`` less than ``b``             || ``a > b``     | ``a`` greater than ``b``             |\n",
    "| ``a <= b``    | ``a`` less than or equal to ``b`` || ``a >= b``    | ``a`` greater than or equal to ``b`` |\n",
    "\n",
    "- `and`, `or`, `not` keywords\n",
    "- `if`, `elif`, `else` conditionals\n",
    "\n",
    "---"
   ]
  },
  {
   "cell_type": "markdown",
   "metadata": {},
   "source": [
    "<a id='s4'></a>\n",
    "### 4. Lists [(cheatsheet)](./cheatsheets/beginners_python_cheat_sheet_pcc_lists.pdf)\n",
    "> A list stores a series of items in a particular order. You access items using an **index**, or within a **loop**.\n",
    "\n",
    "- indexing (first element has index 0, last element has index -1)\n",
    "- slicing (`list[start:end:strides]`)\n",
    "- modifying lists in place\n",
    "- list functions: `len()`, `sorted()`, `sum()`, `max()`\n",
    "- list methods: `.append()`, `.index()`, `.pop()`\n",
    "- `in` operator \n",
    "- Lists `[]` vs Tuples `{}`\n",
    "> Tuples are similar to lists, but the items in a tuple can't be modified.\n",
    "\n",
    "---"
   ]
  },
  {
   "cell_type": "markdown",
   "metadata": {},
   "source": [
    "<a id='s5'></a>\n",
    "### 5. Loops and List comprehension [(cheatsheet)](./cheatsheets/beginners_python_cheat_sheet_pcc_if_while.pdf)\n",
    "- `for` loops and `range()`\n",
    "> A For loop is used to repeat a specific block of code a known number of times.\n",
    "\n",
    "- `while` loops\n",
    "> A while loop repeats a block of code as long as a certain condition is true. While loops are especially useful when you\n",
    "can't know ahead of time how many times a loop should run.\n",
    "- shortening your code with List comprehension\n",
    "\n",
    "---"
   ]
  },
  {
   "cell_type": "markdown",
   "metadata": {},
   "source": [
    "<a id='s6'></a>\n",
    "### 6. Strings and dictionaries \n",
    "> A string is a series of characters, surrounded by single or double quotes.\n",
    "\n",
    "- String syntax, manipulation\n",
    "| What you type | What you get | example               | `print(example)`             |\n",
    "|--------------|----------------|----------------------------|----------------------------|\n",
    "| `\\'`         | `'`            | `'What\\'s up?'`            | `What's up?`            |  \n",
    "| `\\\"`         | `\"`            | `\"That's \\\"cool\\\"\"`        | `That's \"cool\"`         |  \n",
    "| `\\\\`         | `\\`            |  `\"Look, a mountain: /\\\\\"` |  `Look, a mountain: /\\` |\n",
    "| `\\n`         |                |   `\"1\\n2 3\"`               |   `1`<br>`2 3`              |\n",
    "\n",
    "- String methods: `.upper()`, `.lower()`, `.index()`, `.startswith()`\n",
    "    - besides using `.format()`, [f-strings](https://realpython.com/python-f-strings/) also allows using variables inside strings to build dynamic messages.\n",
    "    \n",
    "- conversion to/from lists: `.join()`, `.split()`\n",
    "- `str()`\n",
    "\n",
    "#### Dictionaries [(cheatsheet)](./cheatsheets/beginners_python_cheat_sheet_pcc_dictionaries.pdf)\n",
    "> Dictionaries store connections between pieces of information. Each item in a dictionary is a **key-value** pair.\n",
    "\n",
    "- dictionary comprehension\n",
    "- looping over a dictionary with methods: `.keys()`, `.values()`, `.items()` \n",
    "\n",
    "---"
   ]
  },
  {
   "cell_type": "markdown",
   "metadata": {},
   "source": [
    "<a id='s7'></a>\n",
    "### 7. Working with External Libraries\n",
    "- `import __ as _`\n",
    "- `from __ import *`\n",
    "- importing `math` and `numpy`\n",
    "- operator overloading\n",
    "---"
   ]
  },
  {
   "cell_type": "markdown",
   "metadata": {},
   "source": [
    "## Optional Resources\n",
    "If you want to explore more before moving onto Object-Oriented Programming, you might be interested in: \n",
    "[Beginner resources - Python resources for everybody](https://learnbyexample.github.io/py_resources/beginners.html)\n",
    "- a list of good python learning materials and tips \n",
    "\n",
    "[How to Think Like a Computer Scientist: Interactive Edition](https://runestone.academy/runestone/books/published/thinkcspy/index.html)\n",
    "- gives you a solid foundation to programming, teaches debugging right at the beginning, includes case studies, exercises, etc\n",
    "- based on the book [\"Think Python\"](https://greenteapress.com/wp/think-python/)\n",
    "---"
   ]
  },
  {
   "cell_type": "markdown",
   "metadata": {},
   "source": [
    "## Common Beginner Errors\n",
    "Beginners may have trouble dealing with exceptions and errors. Here is a handy flowchart from https://pythonforbiologists.com for troubleshooting errors\n",
    "![Common problems](./img/cmmon_problems.png)\n",
    "---"
   ]
  }
 ],
 "metadata": {
  "kernelspec": {
   "display_name": "Python 3",
   "language": "python",
   "name": "python3"
  },
  "language_info": {
   "codemirror_mode": {
    "name": "ipython",
    "version": 3
   },
   "file_extension": ".py",
   "mimetype": "text/x-python",
   "name": "python",
   "nbconvert_exporter": "python",
   "pygments_lexer": "ipython3",
   "version": "3.8.6"
  }
 },
 "nbformat": 4,
 "nbformat_minor": 4
}
