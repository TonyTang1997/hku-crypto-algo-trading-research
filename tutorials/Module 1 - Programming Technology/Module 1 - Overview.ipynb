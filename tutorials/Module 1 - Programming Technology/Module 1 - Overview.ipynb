{
 "cells": [
  {
   "cell_type": "markdown",
   "metadata": {},
   "source": [
    "### Cryptocurrency Algorithmic Trading\n",
    "HKU-SCF FinTech Academy\n",
    "<br><br>\n",
    "\n",
    "# <u>Module 1 Overview</u>  \n",
    "\n",
    "This module serves to give you an introduction to basic python, and to lead you into the realm of programming. Some topics related to python will be discussed, such as the libraries for data science and machine learning. This module provides a general picture of python, thereby supporting studies of examples in upcoming modules.\n",
    "\n",
    "**Note that there are quite some optional external references included in this Module, feel free to go through or skip them at your own interest**\n",
    "\n",
    "## Estimated Time to Finish:\n",
    "12~15 hours (excluding Optional Materials)\n",
    "\n",
    "## Main Learning Objectives:\n",
    "- To understand and write basic python programs\n",
    "- To understand what is object-oriented programming in python\n",
    "- To know how to use data science libraries in python\n",
    "- To learn the basics of machine learning\n",
    "\n",
    "## Installing Python\n",
    "Please refer to the following guides on how to install Python 3 on different platforms\n",
    "- [Windows 10](https://www.youtube.com/watch?v=uDbDIhR76H4)\n",
    "- [Mac OS](https://www.youtube.com/watch?v=TgA4ObrowRg)\n",
    "- [Linux](https://www.youtube.com/watch?v=5jrSYA_Ki00)\n",
    "\n",
    "## Study Roadmap\n",
    "\n",
    "### Programming technology\n",
    "\n",
    "#### Python basics\n",
    "[Module 1a - Python Basics](./Module_1a_Python_Basics.ipynb)\n",
    "#### Python OOP \n",
    "[Module 1b - Object-Oriented Programming](./Module_1b_Object_Oriented_Programming.ipynb)\n",
    "\n",
    "#### Data Science in Python\n",
    "[Module 1c - Python Data Science](./Module_1c_Python_Data_Science.ipynb)\n",
    "#### Machine Learning Basics\n",
    "[Module 1d - Machine Learning Basics](./Module_1d_Machine_Learning_Basics.ipynb)\n",
    "\n",
    "\n",
    "\n"
   ]
  }
 ],
 "metadata": {
  "kernelspec": {
   "display_name": "Python 3",
   "language": "python",
   "name": "python3"
  },
  "language_info": {
   "codemirror_mode": {
    "name": "ipython",
    "version": 3
   },
   "file_extension": ".py",
   "mimetype": "text/x-python",
   "name": "python",
   "nbconvert_exporter": "python",
   "pygments_lexer": "ipython3",
   "version": "3.7.4"
  }
 },
 "nbformat": 4,
 "nbformat_minor": 4
}
