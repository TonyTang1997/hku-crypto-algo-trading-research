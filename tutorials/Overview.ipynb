{
 "cells": [
  {
   "cell_type": "markdown",
   "metadata": {},
   "source": [
    "### Cryptocurrency Algorithmic Trading\n",
    "HKU-SCF FinTech Academy\n"
   ]
  },
  {
   "cell_type": "markdown",
   "metadata": {},
   "source": [
    "## <u>introduction</u>  \n",
    "This notebook serves to give you an introduction to cryptocurrency and algorithmic trading. Some topics related to algorithmic trading will be discussed, such as motivations of adopting it (especially in the crypto market), an overview of knowledge required to start algotrading, and the general procedure of building algorithmic trading stretegies. This notebook provides a general picture of the upcomming tutorials aimmed at equipping you with the necessary knowledge and skills to build and deploy your own algotrading strategy.\n",
    "\n",
    "## Main Learning Objectives:\n",
    "- To have a basic idea of what cryptocurrencies are.\n",
    "- To understanding what is cryptocurrency trading.\n",
    "- To have a basic understanding of algorithmic trading and the motivation behind it.\n",
    "- To understand the current algorithmic trading landscape\n",
    "\n",
    "## Estimated Time to Finish:\n",
    "\n",
    "## Study Roadmap\n",
    "1. [Introduction](./Module%200%20-%20Introduction/Introduction_to_Algorithmic_Trading.ipynb)\n",
    "    - A brief introduction to Cryptocurrency\n",
    "    \n",
    "    - A brief introduction to Algorithmic Trading\n",
    "    https://www.youtube.com/watch?v=73fnrywIhl8\n",
    " \n",
    "\n",
    "2. Programming\n",
    "    - Basic Python \n",
    "    - Data Analysis with Python\n",
    "    \n",
    "    \n",
    "3. Machine Learning \n",
    "    - Elementary Machine Learning Theory\n",
    "    - Machine Learning with Python\n",
    "    \n",
    "    \n",
    "4. Quantitative Finance\n",
    "    - Basics Maths of Quantitative Finance\n",
    "    - Modern Portfolio Theory\n",
    "    - Evaluation Metrics for Portfolio\n",
    "    - Working with Quantconnect Platform \n",
    "    \n",
    "    \n",
    "--- "
   ]
  },
  {
   "cell_type": "markdown",
   "metadata": {},
   "source": [
    "# WIP, draft area\n",
    "\n",
    "## (General) Main Learning Objectives:\n",
    "- To have basic understanding of cryptocurrencies and finance.\n",
    "- To understanding algorithmic trading\n",
    "- To learn programing & data science (in Python 3)\n",
    "- To develop algorithmic cryptocurrency trading strategies"
   ]
  },
  {
   "cell_type": "markdown",
   "metadata": {},
   "source": [
    "\n",
    "# Recommended Resources - to be relocated to their appropriate folders"
   ]
  },
  {
   "cell_type": "markdown",
   "metadata": {},
   "source": [
    "\n",
    "### Quantitative Finance\n",
    "#### Basics Maths of Quantitative Finance\n",
    "https://www.quantconnect.com/tutorials/introduction-to-financial-python/rate-of-return,-mean-and-variance\n",
    "#### Modern Portfolio Theory\n",
    "[Introduction to Financial Python - Modern Portfolio Theory](https://www.quantconnect.com/tutorials/introduction-to-financial-python/modern-portfolio-theory)"
   ]
  },
  {
   "cell_type": "markdown",
   "metadata": {},
   "source": [
    "### Programming technology\n",
    "In this chapter you will learn about Python, the most popular programming language for algotrading\n",
    "#### Python basics\n",
    "[Kaggle - Python tutorial](https://www.kaggle.com/learn/python)\n",
    "#### Python OOP \n",
    "[freeCodeCamp - scientific-computing-with-python](https://www.freecodecamp.org/learn/scientific-computing-with-python/)\n",
    "#### Data Science in Python\n",
    "[Kaggle - Pandas tutorial](https://www.kaggle.com/learn/pandas)\n",
    "    - Pandas, Numpy\n",
    "#### Machine Learning Basics\n",
    "[Kaggle - Intro to Machine Learning](https://www.kaggle.com/learn/intro-to-machine-learning)"
   ]
  },
  {
   "cell_type": "markdown",
   "metadata": {},
   "source": [
    "### Quantitative trading\n",
    "https://www.investopedia.com/algorithmic-trading-4689682\n",
    "\n",
    "#### Backtesting\n",
    "#### Performance evaluation"
   ]
  },
  {
   "cell_type": "markdown",
   "metadata": {},
   "source": [
    "### QuantConnect\n",
    "#### Get started on QuantConnect\n",
    "[QuantConnect Boot Camp](https://www.quantconnect.com/learning/course/1/boot-camp-101-us-equities)\n",
    "\n",
    "[Learn to code a python trading bot on QuantConnect](https://www.youtube.com/playlist?list=PLtqRgJ_TIq8Y6YG8G-ETIFW_36mvxMLad)\n",
    "    \n",
    "    - idea generation and research\n",
    "    - code implementation\n",
    "    - optimization\n",
    "    - backtesting\n",
    "    - live deployment.\n",
    "#### Backtesting on QuantConnect"
   ]
  }
 ],
 "metadata": {
  "kernelspec": {
   "display_name": "Python 3",
   "language": "python",
   "name": "python3"
  },
  "language_info": {
   "codemirror_mode": {
    "name": "ipython",
    "version": 3
   },
   "file_extension": ".py",
   "mimetype": "text/x-python",
   "name": "python",
   "nbconvert_exporter": "python",
   "pygments_lexer": "ipython3",
   "version": "3.8.6"
  }
 },
 "nbformat": 4,
 "nbformat_minor": 4
}
